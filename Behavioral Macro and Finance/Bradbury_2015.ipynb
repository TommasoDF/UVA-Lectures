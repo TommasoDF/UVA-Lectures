{
 "cells": [
  {
   "cell_type": "code",
   "execution_count": 35,
   "metadata": {},
   "outputs": [],
   "source": [
    "# importing the necessary libraries\n",
    "import pandas as pd\n",
    "import numpy as np\n",
    "import yfinance as yf\n",
    "import random\n",
    "import matplotlib.pyplot as plt\n",
    "import seaborn as sns"
   ]
  },
  {
   "cell_type": "code",
   "execution_count": 9,
   "metadata": {},
   "outputs": [
    {
     "name": "stdout",
     "output_type": "stream",
     "text": [
      "[*********************100%***********************]  1 of 1 completed\n"
     ]
    }
   ],
   "source": [
    "# creating the Data Frame\n",
    "df = yf.download('^GSPC', start='1990-08-24', end='2011-08-24');"
   ]
  },
  {
   "cell_type": "code",
   "execution_count": 10,
   "metadata": {},
   "outputs": [
    {
     "name": "stdout",
     "output_type": "stream",
     "text": [
      "0.08288017854619155 0.18078483020830713\n"
     ]
    }
   ],
   "source": [
    "# Creating the empirical return distribution\n",
    "returns = (df.Open - df.Open.shift(252))/df.Open.shift(252)\n",
    "distribution = returns.dropna()\n",
    "print(distribution.mean(),distribution.std())"
   ]
  },
  {
   "cell_type": "code",
   "execution_count": 39,
   "metadata": {},
   "outputs": [
    {
     "data": {
      "text/plain": [
       "<matplotlib.lines.Line2D at 0x1dbef4f6048>"
      ]
     },
     "execution_count": 39,
     "metadata": {},
     "output_type": "execute_result"
    },
    {
     "data": {
      "image/png": "[encoded data removed]",
      "text/plain": [
       "<Figure size 842.4x595.44 with 1 Axes>"
      ]
     },
     "metadata": {},
     "output_type": "display_data"
    }
   ],
   "source": [
    "# Visualizing the empirical distribution\n",
    "sorted_dist = pd.DataFrame(distribution.sort_values(ascending=True))\n",
    "ax = sns.distplot(sorted_dist.Open, kde = False, axlabel = 'Returns', bins = 42)\n",
    "plt.axvline(0.082, 0,4.0)"
   ]
  },
  {
   "cell_type": "code",
   "execution_count": 42,
   "metadata": {},
   "outputs": [],
   "source": [
    "# Defining the products\n",
    "def product_1(distribution): #product 103.6 \n",
    "    extraction = round(random.choice(distribution)*100,2)\n",
    "    product_return = 3.6\n",
    "    \n",
    "    return extraction,product_return\n",
    "     \n",
    "def product_2(distribution):    #product 100\n",
    "    extraction = round(random.choice(distribution)*100,2)\n",
    "    if extraction < 0.0:\n",
    "        product_return = 0.0\n",
    "    else:\n",
    "        product_return = round(0.4*extraction,2)\n",
    "    \n",
    "    return extraction,product_return\n",
    "\n",
    "def product_3(distribution):    #product 90\n",
    "    extraction = round(random.choice(distribution)*100,2)\n",
    "    if extraction < -13.70:\n",
    "        product_return = -10.0\n",
    "    else:\n",
    "        product_return = round(0.73*extraction,2)\n",
    "    \n",
    "    return extraction,product_returnb\n",
    "\n",
    "def product_4(distribution):    #product 80\n",
    "    extraction = round(random.choice(distribution)*100,2)\n",
    "    if extraction < -22.00:\n",
    "        product_return = -20.0\n",
    "    else:\n",
    "        product_return = round(0.91*extraction,2)\n",
    "     \n",
    "    return extraction,product_return\n",
    "\n",
    "def product_5(distribution):    #product 0\n",
    "    extraction = round(random.choice(distribution)*100,2)\n",
    "    product_return = extraction\n",
    "    \n",
    "    return extraction,product_return"
   ]
  },
  {
   "cell_type": "code",
   "execution_count": 259,
   "metadata": {},
   "outputs": [
    {
     "data": {
      "text/plain": [
       "(0.0, 4.62, 10.88, 14.94, 18.08)"
      ]
     },
     "execution_count": 259,
     "metadata": {},
     "output_type": "execute_result"
    }
   ],
   "source": [
    "# Computing empirical sd of products\n",
    "std_1 = 0.0\n",
    "std_2 = round(np.std([product_2(distribution)[1] for i in range(100000)]),2)\n",
    "std_3 = round(np.std([product_3(distribution)[1] for i in range(100000)]),2)\n",
    "std_4 = round(np.std([product_4(distribution)[1] for i in range(100000)]),2)\n",
    "std_5 = 18.08\n",
    "std_1, std_2, std_3, std_4, std_5"
   ]
  },
  {
   "cell_type": "code",
   "execution_count": 227,
   "metadata": {},
   "outputs": [],
   "source": [
    "def realized_return(distribution,product):\n",
    "    product_index = int(product[-1])\n",
    "    realized_return = globals()[product](distribution)[1]\n",
    "    return realized_return"
   ]
  },
  {
   "cell_type": "code",
   "execution_count": 260,
   "metadata": {},
   "outputs": [],
   "source": [
    "# Defining the rule by which a person decides to switch product\n",
    "def new_choice_utility_myop(last_product, a = .1, σ = 18):\n",
    "    product_index = int(last_product[-1])\n",
    "    results = globals()[last_product](distribution)\n",
    "    risk = np.array([std_1, std_2, std_3, std_4, std_5])\n",
    "    utility_p1 = realized_return(distribution,\"product_1\")\n",
    "    utility_p2 = realized_return(distribution,\"product_2\")\n",
    "    utility_p3 = realized_return(distribution,\"product_3\")\n",
    "    utility_p4 = realized_return(distribution,\"product_4\")\n",
    "    utility_p5 = realized_return(distribution,\"product_5\") \n",
    "    utilities = np.array([utility_p1,utility_p2, utility_p3, utility_p4, utility_p5])\n",
    "    risk_corrected_utilities = utilities - np.dot(a * .5,risk**2)\n",
    "    max_utility = np.argmax(risk_corrected_utilities) + 1\n",
    "    if max(risk_corrected_utilities) > utilities[product_index-1]:\n",
    "        return max_utility\n",
    "    else:    \n",
    "        return product_index"
   ]
  },
  {
   "cell_type": "code",
   "execution_count": 261,
   "metadata": {},
   "outputs": [],
   "source": [
    "# Now we will simulate the experiment, assuming a sample of 100_000 people, distributed as in figure 3 of the paper\n",
    "N = 100000\n",
    "product_1_holders = int(N * 0.067)\n",
    "product_2_holders = int(N * 0.21)\n",
    "product_3_holders = int(N * 0.419)\n",
    "product_4_holders = int(N * 0.267)\n",
    "product_5_holders = int(N * 0.038)"
   ]
  },
  {
   "cell_type": "code",
   "execution_count": 262,
   "metadata": {},
   "outputs": [],
   "source": [
    "# Determining the new choices with utilities\n",
    "new_choice_from_p1 = [new_choice_utility_myop(\"product_1\") for i in range(product_1_holders)]\n",
    "new_choice_from_p2 = [new_choice_utility_myop(\"product_2\") for i in range(product_2_holders)]\n",
    "new_choice_from_p3 = [new_choice_utility_myop(\"product_3\") for i in range(product_3_holders)]\n",
    "new_choice_from_p4 = [new_choice_utility_myop(\"product_4\") for i in range(product_4_holders)]\n",
    "new_choice_from_p5 = [new_choice_utility_myop(\"product_5\") for i in range(product_5_holders)]"
   ]
  },
  {
   "cell_type": "code",
   "execution_count": 263,
   "metadata": {},
   "outputs": [
    {
     "data": {
      "text/plain": [
       "(1077, 1404, 1704, 1483, 1032)"
      ]
     },
     "execution_count": 263,
     "metadata": {},
     "output_type": "execute_result"
    }
   ],
   "source": [
    "#Aggregating, new distribution from product 1\n",
    "sum([nc == 1 for nc in new_choice_from_p1]), sum([nc == 2 for nc in new_choice_from_p1]), sum([nc == 3 for nc in new_choice_from_p1]), sum([nc == 4 for nc in new_choice_from_p1]), sum([nc == 5 for nc in new_choice_from_p1])"
   ]
  },
  {
   "cell_type": "code",
   "execution_count": 264,
   "metadata": {},
   "outputs": [
    {
     "data": {
      "text/plain": [
       "(2873, 5507, 5208, 4341, 3071)"
      ]
     },
     "execution_count": 264,
     "metadata": {},
     "output_type": "execute_result"
    }
   ],
   "source": [
    "#Aggregating, new distribution from product 2\n",
    "sum([nc == 1 for nc in new_choice_from_p2]), sum([nc == 2 for nc in new_choice_from_p2]), sum([nc == 3 for nc in new_choice_from_p2]), sum([nc == 4 for nc in new_choice_from_p2]), sum([nc == 5 for nc in new_choice_from_p2])"
   ]
  },
  {
   "cell_type": "code",
   "execution_count": 265,
   "metadata": {},
   "outputs": [
    {
     "data": {
      "text/plain": [
       "(3541, 6543, 19347, 7291, 5178)"
      ]
     },
     "execution_count": 265,
     "metadata": {},
     "output_type": "execute_result"
    }
   ],
   "source": [
    "#Aggregating, new distribution from product 3\n",
    "sum([nc == 1 for nc in new_choice_from_p3]), sum([nc == 2 for nc in new_choice_from_p3]), sum([nc == 3 for nc in new_choice_from_p3]), sum([nc == 4 for nc in new_choice_from_p3]), sum([nc == 5 for nc in new_choice_from_p3])"
   ]
  },
  {
   "cell_type": "code",
   "execution_count": 266,
   "metadata": {},
   "outputs": [
    {
     "data": {
      "text/plain": [
       "(1927, 3428, 4825, 13523, 2997)"
      ]
     },
     "execution_count": 266,
     "metadata": {},
     "output_type": "execute_result"
    }
   ],
   "source": [
    "#Aggregating, new distribution from product 4\n",
    "sum([nc == 1 for nc in new_choice_from_p4]), sum([nc == 2 for nc in new_choice_from_p4]), sum([nc == 3 for nc in new_choice_from_p4]), sum([nc == 4 for nc in new_choice_from_p4]), sum([nc == 5 for nc in new_choice_from_p4])"
   ]
  },
  {
   "cell_type": "code",
   "execution_count": 267,
   "metadata": {},
   "outputs": [
    {
     "data": {
      "text/plain": [
       "(242, 432, 603, 516, 2007)"
      ]
     },
     "execution_count": 267,
     "metadata": {},
     "output_type": "execute_result"
    }
   ],
   "source": [
    "#Aggregating, new distribution from product 5\n",
    "sum([nc == 1 for nc in new_choice_from_p5]), sum([nc == 2 for nc in new_choice_from_p5]), sum([nc == 3 for nc in new_choice_from_p5]), sum([nc == 4 for nc in new_choice_from_p5]), sum([nc == 5 for nc in new_choice_from_p5])"
   ]
  }
 ],
 "metadata": {
  "kernelspec": {
   "display_name": "Python 3",
   "language": "python",
   "name": "python3"
  },
  "language_info": {
   "codemirror_mode": {
    "name": "ipython",
    "version": 3
   },
   "file_extension": ".py",
   "mimetype": "text/x-python",
   "name": "python",
   "nbconvert_exporter": "python",
   "pygments_lexer": "ipython3",
   "version": "3.7.3"
  }
 },
 "nbformat": 4,
 "nbformat_minor": 2
}
