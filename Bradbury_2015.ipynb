{
 "cells": [
  {
   "cell_type": "markdown",
   "metadata": {},
   "source": [
    "In this notebook we are trying to simulate the results obtained by lab experiment in the paper Improvung Investment Decisonjs with simulated experience by Bradbury et. al 2015"
   ]
  },
  {
   "cell_type": "markdown",
   "metadata": {},
   "source": [
    "The authors constructed an index of return distribution. They calculated empirical 1-year returns over 20 years until 08/24/2011 using a 1-day rolling time window, which resulted in 5,042 yearlyoverlapping returns."
   ]
  },
  {
   "cell_type": "markdown",
   "metadata": {},
   "source": [
    "We begin by trying to replicate the index."
   ]
  },
  {
   "cell_type": "code",
   "execution_count": null,
   "metadata": {},
   "outputs": [],
   "source": [
    "!conda update --all"
   ]
  },
  {
   "cell_type": "code",
   "execution_count": 1,
   "metadata": {},
   "outputs": [],
   "source": [
    "# importing the necessary libraries\n",
    "import pandas as pd\n",
    "import numpy as np\n",
    "import yfinance as yf\n",
    "import random"
   ]
  },
  {
   "cell_type": "code",
   "execution_count": 2,
   "metadata": {},
   "outputs": [
    {
     "name": "stdout",
     "output_type": "stream",
     "text": [
      "[*********************100%***********************]  1 of 1 completed\n"
     ]
    }
   ],
   "source": [
    "# creating the Data Frame\n",
    "df = yf.download('^GSPC', start='1990-08-24', end='2011-08-24');\n"
   ]
  },
  {
   "cell_type": "code",
   "execution_count": 3,
   "metadata": {},
   "outputs": [
    {
     "name": "stdout",
     "output_type": "stream",
     "text": [
      "0.08288017854619155 0.18078483020830713\n"
     ]
    }
   ],
   "source": [
    "# Creating the empirical return distribution\n",
    "returns = (df.Open - df.Open.shift(252))/df.Open.shift(252)\n",
    "distribution = returns.dropna()\n",
    "print(distribution.mean(),distribution.std())"
   ]
  },
  {
   "cell_type": "code",
   "execution_count": 4,
   "metadata": {},
   "outputs": [],
   "source": [
    "sorted_dist = pd.DataFrame(distribution.sort_values(ascending=True))"
   ]
  },
  {
   "cell_type": "code",
   "execution_count": 5,
   "metadata": {},
   "outputs": [
    {
     "ename": "AttributeError",
     "evalue": "module 'seaborn' has no attribute 'displot'",
     "output_type": "error",
     "traceback": [
      "\u001b[0;31m---------------------------------------------------------------------------\u001b[0m",
      "\u001b[0;31mAttributeError\u001b[0m                            Traceback (most recent call last)",
      "\u001b[0;32m<ipython-input-5-43887015ef98>\u001b[0m in \u001b[0;36m<module>\u001b[0;34m()\u001b[0m\n\u001b[1;32m      1\u001b[0m \u001b[1;32mimport\u001b[0m \u001b[0mseaborn\u001b[0m \u001b[1;32mas\u001b[0m \u001b[0msns\u001b[0m\u001b[1;33m\u001b[0m\u001b[1;33m\u001b[0m\u001b[0m\n\u001b[0;32m----> 2\u001b[0;31m \u001b[0msns\u001b[0m\u001b[1;33m.\u001b[0m\u001b[0mdisplot\u001b[0m\u001b[1;33m(\u001b[0m\u001b[0msorted_dist\u001b[0m\u001b[1;33m,\u001b[0m \u001b[0mx\u001b[0m\u001b[1;33m=\u001b[0m\u001b[1;34m\"open\"\u001b[0m\u001b[1;33m)\u001b[0m\u001b[1;33m\u001b[0m\u001b[1;33m\u001b[0m\u001b[0m\n\u001b[0m",
      "\u001b[0;31mAttributeError\u001b[0m: module 'seaborn' has no attribute 'displot'"
     ]
    }
   ],
   "source": [
    "import seaborn as sns\n",
    "sns.displot(sorted_dist, x=\"open\")"
   ]
  },
  {
   "cell_type": "code",
   "execution_count": 16,
   "metadata": {},
   "outputs": [
    {
     "name": "stdout",
     "output_type": "stream",
     "text": [
      "0.9.0\n"
     ]
    }
   ],
   "source": [
    "print(sns.__version__)"
   ]
  },
  {
   "cell_type": "code",
   "execution_count": 6,
   "metadata": {},
   "outputs": [],
   "source": [
    "# Defining the products\n",
    "def product_1(distribution): #product 103.6 \n",
    "    extraction = round(random.choice(distribution)*100,2)\n",
    "    product_return = 3.6\n",
    "    \n",
    "    return extraction,product_return\n",
    "     \n",
    "def product_2(distribution):    #product 100\n",
    "    extraction = round(random.choice(distribution)*100,2)\n",
    "    if extraction < 0.0:\n",
    "        product_return = 0.0\n",
    "    else:\n",
    "        product_return = round(0.4*extraction,2)\n",
    "    \n",
    "    return extraction,product_return\n",
    "\n",
    "def product_3(distribution):    #product 90\n",
    "    extraction = round(random.choice(distribution)*100,2)\n",
    "    if extraction < -13.70:\n",
    "        product_return = -10.0\n",
    "    else:\n",
    "        product_return = round(0.73*extraction,2)\n",
    "    \n",
    "    return extraction,product_return\n",
    "\n",
    "def product_4(distribution):    #product 80\n",
    "    extraction = round(random.choice(distribution)*100,2)\n",
    "    if extraction < -22.00:\n",
    "        product_return = -20.0\n",
    "    else:\n",
    "        product_return = round(0.91*extraction,2)\n",
    "     \n",
    "    return extraction,product_return\n",
    "\n",
    "def product_5(distribution):    #product 0\n",
    "    extraction = round(random.choice(distribution)*100,2)\n",
    "    product_return = extraction\n",
    "    \n",
    "    return extraction,product_return"
   ]
  },
  {
   "cell_type": "code",
   "execution_count": 7,
   "metadata": {},
   "outputs": [],
   "source": [
    "# Defining the different value functions for each product, given the reference point\n",
    "#using the original Value function by Khaneman and Tversky:\n",
    "# V(x)=x^0.88 for gains and V(x) = 2.25x^0.88\n",
    "\n",
    "def utility(distribution,product):\n",
    "    product_index = int(product[-1])\n",
    "    realized_return = globals()[product](distribution)[1]\n",
    "    ref_point = 3.60 #[3.60, 3.28, 5.986, 7.462, 8.2][product_index-1]\n",
    "    x = float(round(realized_return-ref_point,4))\n",
    "    if x == 0.0:\n",
    "        return 0.0\n",
    "    elif x > 0.0:\n",
    "        return x ** 0.88\n",
    "    else:\n",
    "        return -2.25 * (-x)**0.88"
   ]
  },
  {
   "cell_type": "code",
   "execution_count": 8,
   "metadata": {},
   "outputs": [],
   "source": [
    "# Defining the rule by which a person decides to switch product\n",
    "def new_choice_utility(last_product):\n",
    "    product_index = int(last_product[-1])\n",
    "    results = globals()[last_product](distribution)\n",
    "    utility_p1 = utility(distribution,\"product_1\")\n",
    "    utility_p2 = utility(distribution,\"product_2\")\n",
    "    utility_p3 = utility(distribution,\"product_3\")\n",
    "    utility_p4 = utility(distribution,\"product_4\")\n",
    "    utility_p5 = utility(distribution,\"product_5\") \n",
    "    utilities = [utility_p1,utility_p2, utility_p3, utility_p4, utility_p5]\n",
    "    max_utility = np.argmax(utilities) + 1\n",
    "    if max(utilities) > utilities[product_index-1] * 1.25:\n",
    "        return max_utility\n",
    "    else:    \n",
    "        return product_index"
   ]
  },
  {
   "cell_type": "code",
   "execution_count": 9,
   "metadata": {},
   "outputs": [],
   "source": [
    "# Now we will simulate the experiment, assuming a sample of 1_000_000 people, distributed as in figure 3 of the paper\n",
    "product_1_holders = int(1000000 * 0.067)\n",
    "product_2_holders = int(1000000 * 0.21)\n",
    "product_3_holders = int(1000000 * 0.419)\n",
    "product_4_holders = int(1000000 * 0.267)\n",
    "product_5_holders = int(1000000 * 0.038)"
   ]
  },
  {
   "cell_type": "code",
   "execution_count": 10,
   "metadata": {},
   "outputs": [],
   "source": [
    "# Determining the new choices with utilities\n",
    "new_choice_from_p1 = [new_choice_utility(\"product_1\") for i in range(product_1_holders)]\n",
    "new_choice_from_p2 = [new_choice_utility(\"product_2\") for i in range(product_2_holders)]\n",
    "new_choice_from_p3 = [new_choice_utility(\"product_3\") for i in range(product_3_holders)]\n",
    "new_choice_from_p4 = [new_choice_utility(\"product_4\") for i in range(product_4_holders)]\n",
    "new_choice_from_p5 = [new_choice_utility(\"product_5\") for i in range(product_5_holders)]"
   ]
  },
  {
   "cell_type": "code",
   "execution_count": 11,
   "metadata": {},
   "outputs": [
    {
     "data": {
      "text/plain": [
       "(765, 4588, 15231, 21625, 24791)"
      ]
     },
     "execution_count": 11,
     "metadata": {},
     "output_type": "execute_result"
    }
   ],
   "source": [
    "#Aggregating, new distribution from product 1\n",
    "sum([nc == 1 for nc in new_choice_from_p1]), sum([nc == 2 for nc in new_choice_from_p1]), sum([nc == 3 for nc in new_choice_from_p1]), sum([nc == 4 for nc in new_choice_from_p1]), sum([nc == 5 for nc in new_choice_from_p1])"
   ]
  },
  {
   "cell_type": "code",
   "execution_count": 12,
   "metadata": {},
   "outputs": [
    {
     "data": {
      "text/plain": [
       "(2536, 19062, 46385, 65716, 76301)"
      ]
     },
     "execution_count": 12,
     "metadata": {},
     "output_type": "execute_result"
    }
   ],
   "source": [
    "#Aggregating, new distribution from product 2\n",
    "sum([nc == 1 for nc in new_choice_from_p2]), sum([nc == 2 for nc in new_choice_from_p2]), sum([nc == 3 for nc in new_choice_from_p2]), sum([nc == 4 for nc in new_choice_from_p2]), sum([nc == 5 for nc in new_choice_from_p2])"
   ]
  },
  {
   "cell_type": "code",
   "execution_count": 13,
   "metadata": {},
   "outputs": [
    {
     "data": {
      "text/plain": [
       "(4952, 26035, 118350, 125256, 144407)"
      ]
     },
     "execution_count": 13,
     "metadata": {},
     "output_type": "execute_result"
    }
   ],
   "source": [
    "#Aggregating, new distribution from product 3\n",
    "sum([nc == 1 for nc in new_choice_from_p3]), sum([nc == 2 for nc in new_choice_from_p3]), sum([nc == 3 for nc in new_choice_from_p3]), sum([nc == 4 for nc in new_choice_from_p3]), sum([nc == 5 for nc in new_choice_from_p3])"
   ]
  },
  {
   "cell_type": "code",
   "execution_count": 14,
   "metadata": {},
   "outputs": [
    {
     "data": {
      "text/plain": [
       "(3229, 16473, 55377, 102252, 89669)"
      ]
     },
     "execution_count": 14,
     "metadata": {},
     "output_type": "execute_result"
    }
   ],
   "source": [
    "#Aggregating, new distribution from product 4\n",
    "sum([nc == 1 for nc in new_choice_from_p4]), sum([nc == 2 for nc in new_choice_from_p4]), sum([nc == 3 for nc in new_choice_from_p4]), sum([nc == 4 for nc in new_choice_from_p4]), sum([nc == 5 for nc in new_choice_from_p4])"
   ]
  },
  {
   "cell_type": "code",
   "execution_count": 15,
   "metadata": {},
   "outputs": [
    {
     "data": {
      "text/plain": [
       "(454, 2404, 7655, 11173, 16314)"
      ]
     },
     "execution_count": 15,
     "metadata": {},
     "output_type": "execute_result"
    }
   ],
   "source": [
    "#Aggregating, new distribution from product 5\n",
    "sum([nc == 1 for nc in new_choice_from_p5]), sum([nc == 2 for nc in new_choice_from_p5]), sum([nc == 3 for nc in new_choice_from_p5]), sum([nc == 4 for nc in new_choice_from_p5]), sum([nc == 5 for nc in new_choice_from_p5])"
   ]
  },
  {
   "cell_type": "code",
   "execution_count": 776,
   "metadata": {},
   "outputs": [],
   "source": [
    "# Simulating the control experiment, starting with more agents holding more riksy products\n",
    "product_1_holders_c = int(1000000 * 0.019)\n",
    "product_2_holders_c = int(1000000 * 0.171)\n",
    "product_3_holders_c = int(1000000 * 0.429)\n",
    "product_4_holders_c = int(1000000 * 0.276)\n",
    "product_5_holders_c = int(1000000 * 0.105)"
   ]
  },
  {
   "cell_type": "code",
   "execution_count": 777,
   "metadata": {},
   "outputs": [],
   "source": [
    "# Determining the new choices with utilities\n",
    "new_choice_from_p1_c = [new_choice_utility(\"product_1\") for i in range(product_1_holders_c)]\n",
    "new_choice_from_p2_c = [new_choice_utility(\"product_2\") for i in range(product_2_holders_c)]\n",
    "new_choice_from_p3_c = [new_choice_utility(\"product_3\") for i in range(product_3_holders_c)]\n",
    "new_choice_from_p4_c = [new_choice_utility(\"product_4\") for i in range(product_4_holders_c)]\n",
    "new_choice_from_p5_c = [new_choice_utility(\"product_5\") for i in range(product_5_holders_c)]"
   ]
  },
  {
   "cell_type": "code",
   "execution_count": 778,
   "metadata": {},
   "outputs": [
    {
     "data": {
      "text/plain": [
       "(637, 2573, 4550, 5411, 5829)"
      ]
     },
     "execution_count": 778,
     "metadata": {},
     "output_type": "execute_result"
    }
   ],
   "source": [
    "#Aggregating, new distribution from product 1\n",
    "sum([nc == 1 for nc in new_choice_from_p1_c]), sum([nc == 2 for nc in new_choice_from_p1_c]), sum([nc == 3 for nc in new_choice_from_p1_c]), sum([nc == 4 for nc in new_choice_from_p1_c]), sum([nc == 5 for nc in new_choice_from_p1_c])"
   ]
  },
  {
   "cell_type": "code",
   "execution_count": 779,
   "metadata": {},
   "outputs": [
    {
     "data": {
      "text/plain": [
       "(5664, 27630, 38353, 47613, 51740)"
      ]
     },
     "execution_count": 779,
     "metadata": {},
     "output_type": "execute_result"
    }
   ],
   "source": [
    "#Aggregating, new distribution from product 2\n",
    "sum([nc == 1 for nc in new_choice_from_p2_c]), sum([nc == 2 for nc in new_choice_from_p2_c]), sum([nc == 3 for nc in new_choice_from_p2_c]), sum([nc == 4 for nc in new_choice_from_p2_c]), sum([nc == 5 for nc in new_choice_from_p2_c])"
   ]
  },
  {
   "cell_type": "code",
   "execution_count": 780,
   "metadata": {},
   "outputs": [
    {
     "data": {
      "text/plain": [
       "(14358, 53611, 119694, 115544, 125793)"
      ]
     },
     "execution_count": 780,
     "metadata": {},
     "output_type": "execute_result"
    }
   ],
   "source": [
    "#Aggregating, new distribution from product 3\n",
    "sum([nc == 1 for nc in new_choice_from_p3_c]), sum([nc == 2 for nc in new_choice_from_p3_c]), sum([nc == 3 for nc in new_choice_from_p3_c]), sum([nc == 4 for nc in new_choice_from_p3_c]), sum([nc == 5 for nc in new_choice_from_p3_c])"
   ]
  },
  {
   "cell_type": "code",
   "execution_count": 781,
   "metadata": {},
   "outputs": [
    {
     "data": {
      "text/plain": [
       "(9232, 34506, 61279, 90787, 80196)"
      ]
     },
     "execution_count": 781,
     "metadata": {},
     "output_type": "execute_result"
    }
   ],
   "source": [
    "#Aggregating, new distribution from product 4\n",
    "sum([nc == 1 for nc in new_choice_from_p4_c]), sum([nc == 2 for nc in new_choice_from_p4_c]), sum([nc == 3 for nc in new_choice_from_p4_c]), sum([nc == 4 for nc in new_choice_from_p4_c]), sum([nc == 5 for nc in new_choice_from_p4_c])"
   ]
  },
  {
   "cell_type": "code",
   "execution_count": 782,
   "metadata": {},
   "outputs": [
    {
     "data": {
      "text/plain": [
       "(3527, 13203, 23351, 28197, 36722)"
      ]
     },
     "execution_count": 782,
     "metadata": {},
     "output_type": "execute_result"
    }
   ],
   "source": [
    "#Aggregating, new distribution from product 5\n",
    "sum([nc == 1 for nc in new_choice_from_p5_c]), sum([nc == 2 for nc in new_choice_from_p5_c]), sum([nc == 3 for nc in new_choice_from_p5_c]), sum([nc == 4 for nc in new_choice_from_p5_c]), sum([nc == 5 for nc in new_choice_from_p5_c])"
   ]
  },
  {
   "cell_type": "code",
   "execution_count": null,
   "metadata": {},
   "outputs": [],
   "source": []
  }
 ],
 "metadata": {
  "kernelspec": {
   "display_name": "Python 3",
   "language": "python",
   "name": "python3"
  },
  "language_info": {
   "codemirror_mode": {
    "name": "ipython",
    "version": 3
   },
   "file_extension": ".py",
   "mimetype": "text/x-python",
   "name": "python",
   "nbconvert_exporter": "python",
   "pygments_lexer": "ipython3",
   "version": "3.7.3"
  }
 },
 "nbformat": 4,
 "nbformat_minor": 2
}
