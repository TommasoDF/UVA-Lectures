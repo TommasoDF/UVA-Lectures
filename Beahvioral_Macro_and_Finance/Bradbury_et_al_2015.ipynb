{
 "cells": [
  {
   "cell_type": "code",
   "execution_count": 1,
   "metadata": {},
   "outputs": [],
   "source": [
    "# importing the necessary libraries\n",
    "import pandas as pd\n",
    "import numpy as np\n",
    "import yfinance as yf\n",
    "import random\n",
    "import matplotlib.pyplot as plt\n",
    "import seaborn as sns"
   ]
  },
  {
   "cell_type": "code",
   "execution_count": null,
   "metadata": {},
   "outputs": [],
   "source": [
    "# creating the Data Frame\n",
    "df = yf.download('^GSPC', start='1990-08-24', end='2011-08-24');"
   ]
  },
  {
   "cell_type": "code",
   "execution_count": null,
   "metadata": {},
   "outputs": [],
   "source": [
    "# Creating the empirical return distribution\n",
    "returns = (df.Open - df.Open.shift(252))/df.Open.shift(252)\n",
    "distribution = returns.dropna()\n",
    "print(distribution.mean(),distribution.std())"
   ]
  },
  {
   "cell_type": "code",
   "execution_count": 5,
   "metadata": {},
   "outputs": [
    {
     "name": "stderr",
     "output_type": "stream",
     "text": [
      "C:\\Users\\TFRANCE\\AppData\\Roaming\\Python\\Python37\\site-packages\\seaborn\\distributions.py:2619: FutureWarning: `distplot` is a deprecated function and will be removed in a future version. Please adapt your code to use either `displot` (a figure-level function with similar flexibility) or `histplot` (an axes-level function for histograms).\n",
      "  warnings.warn(msg, FutureWarning)\n"
     ]
    },
    {
     "data": {
      "text/plain": [
       "<matplotlib.lines.Line2D at 0x265e8c47ac8>"
      ]
     },
     "execution_count": 5,
     "metadata": {},
     "output_type": "execute_result"
    },
    {
     "data": {
      "image/png": "[encoded data removed]",
      "text/plain": [
       "<Figure size 432x288 with 1 Axes>"
      ]
     },
     "metadata": {
      "needs_background": "light"
     },
     "output_type": "display_data"
    }
   ],
   "source": [
    "# Visualizing the empirical distribution\n",
    "sorted_dist = pd.DataFrame(distribution.sort_values(ascending=True))\n",
    "ax = sns.distplot(sorted_dist.Open, kde = False, axlabel = 'Returns', bins = 42)\n",
    "plt.axvline(0.082, 0,4.0)"
   ]
  },
  {
   "cell_type": "code",
   "execution_count": 6,
   "metadata": {},
   "outputs": [],
   "source": [
    "# Defining the products\n",
    "def product(prod_number,distribution): \n",
    "    extraction = random.choice(distribution)\n",
    "    \n",
    "    if prod_number == 1: #product 103.6 \n",
    "        product_return = 0.036\n",
    "        \n",
    "    elif prod_number == 2: #product 100\n",
    "        if extraction < 0.0:\n",
    "            product_return = 0.0\n",
    "        else:\n",
    "            product_return = 0.4*extraction\n",
    "    \n",
    "    elif prod_number == 3: #product 90\n",
    "        if extraction < -13.70:\n",
    "            product_return = -10.0\n",
    "        else:\n",
    "            product_return = 0.73*extraction\n",
    "            \n",
    "            \n",
    "    elif prod_number == 4: #product 80\n",
    "        if extraction < -22.00:\n",
    "            product_return = -20.0\n",
    "        else:\n",
    "            product_return = 0.91*extraction\n",
    "            \n",
    "    elif prod_number == 5: #product 0\n",
    "        product_return = extraction\n",
    "    \n",
    "    else:\n",
    "        print(\"Please select a product number between 1 and 5\")\n",
    "    \n",
    "    return extraction,product_return"
   ]
  },
  {
   "cell_type": "code",
   "execution_count": 7,
   "metadata": {},
   "outputs": [],
   "source": [
    "# Computing empirical mean of products\n",
    "mean = np.zeros(5)\n",
    "N = 100000\n",
    "\n",
    "for i in range(5):\n",
    "    mean[i] = np.mean([product(i+1, distribution)[1] for l in range(N)])\n",
    "    \n",
    "sample_avgs = np.around(np.dot(100,mean), decimals=2) "
   ]
  },
  {
   "cell_type": "code",
   "execution_count": 8,
   "metadata": {},
   "outputs": [],
   "source": [
    "# Defining the witching rule \n",
    "def new_choice_utility_myop(means, a = .1):\n",
    "    results = np.dot(100,np.array([product(i+1,distribution)[1] for i in range(5)]))\n",
    "    sd = np.abs(results - means)\n",
    "    utilities = means - np.dot(a * .5,sd**2)\n",
    "    max_utility = np.argmax(utilities)\n",
    "    return max_utility"
   ]
  },
  {
   "cell_type": "code",
   "execution_count": null,
   "metadata": {},
   "outputs": [],
   "source": [
    "# Now we will simulate the experiment, assuming a sample of N = 100000 subjects\n",
    "N = 100000\n",
    "percentages = np.array([0.067, 0.21, 0.419, 0.267, 0.038])\n",
    "holders = np.dot(N,percentages)"
   ]
  },
  {
   "cell_type": "code",
   "execution_count": 13,
   "metadata": {},
   "outputs": [
    {
     "name": "stdout",
     "output_type": "stream",
     "text": [
      "[[  129.  1016.  1048.  1877.  2630.]\n",
      " [  424.  3187.  3263.  6071.  8055.]\n",
      " [  836.  6364.  6547. 11785. 16368.]\n",
      " [  549.  4062.  3999.  7666. 10424.]\n",
      " [  104.   584.   551.  1097.  1464.]]\n"
     ]
    }
   ],
   "source": [
    "# Determining the new choices with utilities\n",
    "new_choices = np.empty((5,5))\n",
    "for i in range(5):\n",
    "    a = [new_choice_utility_myop(sample_avgs) for l in range(int(holders[i]))]\n",
    "    for j in range(5):\n",
    "        new_choices[i,j] = sum([nc == j for nc in a])\n",
    "print(new_choices)"
   ]
  },
  {
   "cell_type": "code",
   "execution_count": 19,
   "metadata": {},
   "outputs": [
    {
     "name": "stdout",
     "output_type": "stream",
     "text": [
      "[[   35.   311.   279.   548.   827.]\n",
      " [  307.  2282.  2324.  4334.  5953.]\n",
      " [  338.  2293.  2351.  4559.  5859.]\n",
      " [  553.  4310.  4320.  8187. 11129.]\n",
      " [  823.  5898.  5914. 11052. 15213.]]\n"
     ]
    }
   ],
   "source": [
    "# Control session\n",
    "percentages_c = np.array([0.02, 0.152, 0.154, 0.285, 0.389])\n",
    "holders_c = np.dot(N,percentages_c)\n",
    "new_choices_c = np.empty((5,5))\n",
    "for i in range(5):\n",
    "    a = [new_choice_utility_myop(sample_avgs) for l in range(int(holders_c[i]))]\n",
    "    for j in range(5):\n",
    "        new_choices_c[i,j] = sum([nc == j for nc in a])\n",
    "print(new_choices_c)"
   ]
  },
  {
   "cell_type": "code",
   "execution_count": null,
   "metadata": {},
   "outputs": [],
   "source": []
  }
 ],
 "metadata": {
  "kernelspec": {
   "display_name": "Python 3",
   "language": "python",
   "name": "python3"
  },
  "language_info": {
   "codemirror_mode": {
    "name": "ipython",
    "version": 3
   },
   "file_extension": ".py",
   "mimetype": "text/x-python",
   "name": "python",
   "nbconvert_exporter": "python",
   "pygments_lexer": "ipython3",
   "version": "3.7.3"
  }
 },
 "nbformat": 4,
 "nbformat_minor": 2
}
