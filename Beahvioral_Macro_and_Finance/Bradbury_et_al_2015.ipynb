{
 "cells": [
  {
   "cell_type": "code",
   "execution_count": 6,
   "id": "0a8cddce",
   "metadata": {},
   "outputs": [],
   "source": [
    "# importing the necessary libraries\n",
    "import pandas as pd\n",
    "import numpy as np\n",
    "import yfinance as yf\n",
    "import random\n",
    "import matplotlib.pyplot as plt\n",
    "import seaborn as sns"
   ]
  },
  {
   "cell_type": "code",
   "execution_count": 7,
   "id": "bd4758cc",
   "metadata": {},
   "outputs": [
    {
     "name": "stdout",
     "output_type": "stream",
     "text": [
      "[*********************100%***********************]  1 of 1 completed\n"
     ]
    }
   ],
   "source": [
    "# creating the Data Frame\n",
    "df = yf.download('^GSPC', start='1990-08-24', end='2011-08-24');"
   ]
  },
  {
   "cell_type": "code",
   "execution_count": 8,
   "id": "52706d5a",
   "metadata": {},
   "outputs": [
    {
     "name": "stdout",
     "output_type": "stream",
     "text": [
      "0.08288017854619155 0.18078483020830713\n"
     ]
    }
   ],
   "source": [
    "# Creating the empirical return distribution\n",
    "returns = (df.Open - df.Open.shift(252))/df.Open.shift(252)\n",
    "distribution = returns.dropna()\n",
    "print(distribution.mean(),distribution.std())"
   ]
  },
  {
   "cell_type": "code",
   "execution_count": null,
   "id": "af27bdce",
   "metadata": {},
   "outputs": [],
   "source": [
    "# Visualizing the empirical distribution\n",
    "sorted_dist = pd.DataFrame(distribution.sort_values(ascending=True))\n",
    "ax = sns.distplot(sorted_dist.Open, kde = False, axlabel = 'Returns', bins = 42)\n",
    "plt.axvline(0.082, 0,4.0)"
   ]
  },
  {
   "cell_type": "code",
   "execution_count": 105,
   "id": "29b8e9e2",
   "metadata": {},
   "outputs": [],
   "source": [
    "# Defining the products\n",
    "def product(prod_number,distribution): \n",
    "    extraction = random.choice(distribution)\n",
    "    \n",
    "    if prod_number == 1: #product 103.6 \n",
    "        product_return = 0.036\n",
    "        \n",
    "    elif prod_number == 2: #product 100\n",
    "        if extraction < 0.0:\n",
    "            product_return = 0.0\n",
    "        else:\n",
    "            product_return = 0.4*extraction\n",
    "    \n",
    "    elif prod_number == 3: #product 90\n",
    "        if extraction < -13.70:\n",
    "            product_return = -10.0\n",
    "        else:\n",
    "            product_return = 0.73*extraction\n",
    "            \n",
    "            \n",
    "    elif prod_number == 4: #product 80\n",
    "        if extraction < -22.00:\n",
    "            product_return = -20.0\n",
    "        else:\n",
    "            product_return = 0.91*extraction\n",
    "            \n",
    "    elif prod_number == 5: #product 0\n",
    "        product_return = extraction\n",
    "    \n",
    "    else:\n",
    "        print(\"Please select a product number between 1 and 5\")\n",
    "    \n",
    "    return extraction,product_return"
   ]
  },
  {
   "cell_type": "code",
   "execution_count": 121,
   "id": "0fe0cc55",
   "metadata": {},
   "outputs": [],
   "source": [
    "# Computing empirical mean of products\n",
    "\n",
    "mean = np.zeros(5)\n",
    "N = 100000\n",
    "\n",
    "for i in range(5):\n",
    "    mean[i] = np.mean([product(i+1, distribution)[1] for l in range(N)])\n",
    "    \n",
    "sample_avgs = np.around(np.dot(100,mean), decimals=2) "
   ]
  },
  {
   "cell_type": "code",
   "execution_count": 422,
   "id": "c6a3b0d7",
   "metadata": {},
   "outputs": [],
   "source": [
    "# Defining the rule by which a person decides to switch product\n",
    "def new_choice_utility_myop(means, a = .1):\n",
    "    results = np.dot(100,np.array([product(i+1,distribution)[1] for i in range(5)]))\n",
    "    sd = np.abs(results - means)\n",
    "    utilities = means - np.dot(a * .5,sd**2)\n",
    "    max_utility = np.argmax(utilities)\n",
    "    return max_utility"
   ]
  },
  {
   "cell_type": "code",
   "execution_count": 450,
   "id": "79ce0f20",
   "metadata": {},
   "outputs": [],
   "source": [
    "# Now we will simulate the experiment, assuming a sample of 100_000 people, distributed as in figure 3 of the paper\n",
    "N = 105\n",
    "percentages = np.array([0.067, 0.21, 0.419, 0.267, 0.038])\n",
    "holders = np.dot(N,percentages)\n",
    "holders = np.array([7,22,44,28,4])\n",
    "np.sum(holders)"
   ]
  },
  {
   "cell_type": "code",
   "execution_count": 460,
   "id": "5d241e29",
   "metadata": {},
   "outputs": [
    {
     "data": {
      "text/plain": [
       "105"
      ]
     },
     "execution_count": 460,
     "metadata": {},
     "output_type": "execute_result"
    }
   ],
   "source": []
  },
  {
   "cell_type": "code",
   "execution_count": 461,
   "id": "194c3551",
   "metadata": {},
   "outputs": [],
   "source": [
    "# Determining the new choices with utilities\n",
    "new_choices = np.empty((5,5))\n",
    "for i in range(5):\n",
    "    a = [new_choice_utility_myop(sample_avgs) for l in range(holders[i])]\n",
    "    for j in range(5):\n",
    "        new_choices[i,j] = sum([nc == j for nc in a])"
   ]
  },
  {
   "cell_type": "code",
   "execution_count": 464,
   "id": "dfd11f66",
   "metadata": {},
   "outputs": [
    {
     "name": "stdout",
     "output_type": "stream",
     "text": [
      "[[ 0.  2.  1.  3.  1.]\n",
      " [ 1.  2.  2.  8.  9.]\n",
      " [ 0.  9.  5. 14. 16.]\n",
      " [ 0.  6.  5.  7. 10.]\n",
      " [ 0.  1.  0.  2.  1.]]\n"
     ]
    }
   ],
   "source": [
    "print(new_choices)"
   ]
  }
 ],
 "metadata": {
  "kernelspec": {
   "display_name": "Python 3 (ipykernel)",
   "language": "python",
   "name": "python3"
  },
  "language_info": {
   "codemirror_mode": {
    "name": "ipython",
    "version": 3
   },
   "file_extension": ".py",
   "mimetype": "text/x-python",
   "name": "python",
   "nbconvert_exporter": "python",
   "pygments_lexer": "ipython3",
   "version": "3.9.7"
  }
 },
 "nbformat": 4,
 "nbformat_minor": 5
}
